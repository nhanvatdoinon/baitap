{
 "cells": [
  {
   "cell_type": "code",
   "execution_count": 101,
   "id": "38ce2bf1",
   "metadata": {},
   "outputs": [
    {
     "name": "stdout",
     "output_type": "stream",
     "text": [
      "123+45-67+8-9 = 100\n",
      "123+4-5+67-89 = 100\n",
      "123-45-67+89 = 100\n",
      "123-4-5-6-7+8-9 = 100\n",
      "12+3+4+5-6-7+89 = 100\n",
      "12+3-4+5+67+8+9 = 100\n",
      "12-3-4+5-6+7+89 = 100\n",
      "1+23-4+56+7+8+9 = 100\n",
      "1+23-4+5+6+78-9 = 100\n",
      "1+2+34-5+67-8+9 = 100\n",
      "1+2+3-4+5+6+78+9 = 100\n",
      "So, 11 expressions for 100\n"
     ]
    }
   ],
   "source": [
    "\n",
    "from __future__ import division \n",
    " \n",
    "s = '123456789'\n",
    "d = {'0':'', '1':'+', '2':'-'}\n",
    "sum_num = 100\n",
    "count =  0\n",
    " \n",
    "def to_new_base(n, new_base):\n",
    "    s = []\n",
    "    if n ==  0:\n",
    "        s.append('0')\n",
    "    while n:\n",
    "        s.append(str(n % new_base))\n",
    "        n = n // new_base\n",
    "    num = '{0:0>8}'.format(''.join(s[::-1]))\n",
    "    return num\n",
    " \n",
    "for n in range(int('22222222', 3)):\n",
    "    num = to_new_base(n, 3)\n",
    "    expr = ''\n",
    "    for i, j in zip(s, num):\n",
    "        expr += i + d[j]\n",
    "    expr += '9'\n",
    "    if eval(expr) == sum_num:\n",
    "        print('{0} = {1}'.format(expr, sum_num))\n",
    "        count += 1\n",
    " \n",
    " \n",
    "print('So, {0} expressions for {1}'.format(count, sum_num))"
   ]
  },
  {
   "cell_type": "markdown",
   "id": "92ecb186",
   "metadata": {},
   "source": []
  },
  {
   "cell_type": "code",
   "execution_count": null,
   "id": "a1d0e305",
   "metadata": {},
   "outputs": [],
   "source": []
  }
 ],
 "metadata": {
  "kernelspec": {
   "display_name": "Python 3",
   "language": "python",
   "name": "python3"
  },
  "language_info": {
   "codemirror_mode": {
    "name": "ipython",
    "version": 3
   },
   "file_extension": ".py",
   "mimetype": "text/x-python",
   "name": "python",
   "nbconvert_exporter": "python",
   "pygments_lexer": "ipython3",
   "version": "3.8.8"
  }
 },
 "nbformat": 4,
 "nbformat_minor": 5
}
