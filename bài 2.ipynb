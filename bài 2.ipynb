{
 "cells": [
  {
   "cell_type": "code",
   "execution_count": 20,
   "id": "396d7580",
   "metadata": {},
   "outputs": [
    {
     "name": "stdout",
     "output_type": "stream",
     "text": [
      "nhap x:30\n",
      "nhap y80\n"
     ]
    }
   ],
   "source": [
    "x = int(input('nhap x:'))\n",
    "y = int(input('nhap y'))"
   ]
  },
  {
   "cell_type": "code",
   "execution_count": 21,
   "id": "e8d58d2a",
   "metadata": {},
   "outputs": [],
   "source": [
    "buoc = 0"
   ]
  },
  {
   "cell_type": "code",
   "execution_count": 22,
   "id": "12b5ce5a",
   "metadata": {},
   "outputs": [
    {
     "name": "stdout",
     "output_type": "stream",
     "text": [
      "40\n"
     ]
    }
   ],
   "source": [
    "if x<y :\n",
    "    x = x*2\n",
    "    if x<y:\n",
    "        x = x * 2\n",
    "    while(x>y):\n",
    "        x= x-1\n",
    "        buoc = buoc + 1\n",
    "        if x==y:\n",
    "            break;\n",
    "\n",
    "print(buoc)\n",
    "        "
   ]
  },
  {
   "cell_type": "code",
   "execution_count": null,
   "id": "4b3ad58e",
   "metadata": {},
   "outputs": [],
   "source": []
  },
  {
   "cell_type": "code",
   "execution_count": null,
   "id": "1a89fc36",
   "metadata": {},
   "outputs": [],
   "source": []
  }
 ],
 "metadata": {
  "kernelspec": {
   "display_name": "Python 3",
   "language": "python",
   "name": "python3"
  },
  "language_info": {
   "codemirror_mode": {
    "name": "ipython",
    "version": 3
   },
   "file_extension": ".py",
   "mimetype": "text/x-python",
   "name": "python",
   "nbconvert_exporter": "python",
   "pygments_lexer": "ipython3",
   "version": "3.8.8"
  }
 },
 "nbformat": 4,
 "nbformat_minor": 5
}
