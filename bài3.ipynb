{
 "cells": [
  {
   "cell_type": "code",
   "execution_count": 1,
   "id": "7cdf570f",
   "metadata": {},
   "outputs": [],
   "source": [
    "arr1 = [3, 4, -7, 3, 1, 3, 1, -4, -2, -2]"
   ]
  },
  {
   "cell_type": "code",
   "execution_count": 10,
   "id": "29322f17",
   "metadata": {},
   "outputs": [],
   "source": [
    "\n",
    "def abc(arr1):\n",
    " \n",
    "    for i in range(len(arr1)):\n",
    "        sum = 0\n",
    "        for j in range(i, len(arr1)):\n",
    "            sum += arr1[j]\n",
    "            if sum == 0:\n",
    "                print('Vị trí', i,j)\n",
    "                print(\"Mảng\",arr1[i:j+1])"
   ]
  },
  {
   "cell_type": "code",
   "execution_count": 11,
   "id": "f93c55e5",
   "metadata": {},
   "outputs": [
    {
     "name": "stdout",
     "output_type": "stream",
     "text": [
      "Vị trí 0 2\n",
      "Mảng [3, 4, -7]\n",
      "Vị trí 0 9\n",
      "Mảng [3, 4, -7, 3, 1, 3, 1, -4, -2, -2]\n",
      "Vị trí 1 3\n",
      "Mảng [4, -7, 3]\n",
      "Vị trí 2 5\n",
      "Mảng [-7, 3, 1, 3]\n",
      "Vị trí 3 9\n",
      "Mảng [3, 1, 3, 1, -4, -2, -2]\n",
      "Vị trí 5 7\n",
      "Mảng [3, 1, -4]\n"
     ]
    }
   ],
   "source": [
    "abc(arr1)"
   ]
  },
  {
   "cell_type": "code",
   "execution_count": null,
   "id": "8a379947",
   "metadata": {},
   "outputs": [],
   "source": []
  }
 ],
 "metadata": {
  "kernelspec": {
   "display_name": "Python 3",
   "language": "python",
   "name": "python3"
  },
  "language_info": {
   "codemirror_mode": {
    "name": "ipython",
    "version": 3
   },
   "file_extension": ".py",
   "mimetype": "text/x-python",
   "name": "python",
   "nbconvert_exporter": "python",
   "pygments_lexer": "ipython3",
   "version": "3.8.8"
  }
 },
 "nbformat": 4,
 "nbformat_minor": 5
}
